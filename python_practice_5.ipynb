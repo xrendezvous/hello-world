{
 "nbformat": 4,
 "nbformat_minor": 0,
 "metadata": {
  "colab": {
   "provenance": []
  },
  "kernelspec": {
   "name": "python3",
   "display_name": "Python 3"
  },
  "language_info": {
   "name": "python"
  }
 },
 "cells": [
  {
   "cell_type": "markdown",
   "source": [
    "# I. OOP"
   ],
   "metadata": {
    "id": "5qV_sehzFCTp"
   }
  },
  {
   "cell_type": "markdown",
   "source": [
    "1. (6б). Створіть клас Animal, додайте три атрибути, один з яких має значення за замовчуванням та два методи на свій розсуд."
   ],
   "metadata": {
    "id": "tx_U_hOALyfg"
   }
  },
  {
   "cell_type": "code",
   "source": [
    "class Animal:\n",
    "  def __init__(self, name, age, gender='male'):\n",
    "    self.name = name\n",
    "    self.age = age\n",
    "    self.gender = gender\n",
    "\n",
    "  def dog_sounds(self, sound):\n",
    "    return f\"{self.name} barks: {sound}\"\n",
    "\n",
    "  def cat_eats(self, food):\n",
    "    return f\"{self.name} eats {food}\""
   ],
   "metadata": {
    "id": "-Vf895KaL88N"
   },
   "execution_count": 10,
   "outputs": []
  },
  {
   "cell_type": "markdown",
   "source": [
    "2. (2б). Створіть два обʼєкти цього класу, де один з обʼєктів створюється із дефолтним значенням атрибуту. На одному обʼєкті отримайте значення його атрибуту, а на іншому викличте один з його методів."
   ],
   "metadata": {
    "id": "X_UlOMB0L93w"
   }
  },
  {
   "cell_type": "code",
   "source": [
    "dog = Animal('Cosmo', 3)\n",
    "cat = Animal('Milk', 2, 'female')\n",
    "\n",
    "print(dog.gender)\n",
    "print(cat.cat_eats('sausage'))"
   ],
   "metadata": {
    "id": "7gBu0ESOMCpG",
    "colab": {
     "base_uri": "https://localhost:8080/"
    },
    "outputId": "58ca7c8e-09c2-4850-98c6-d46be5401c68"
   },
   "execution_count": 11,
   "outputs": [
    {
     "output_type": "stream",
     "name": "stdout",
     "text": [
      "male\n",
      "Milk eats sausage\n"
     ]
    }
   ]
  },
  {
   "cell_type": "markdown",
   "source": [
    "3. (5б). Створіть клас, де атрибути мають різні рівні доступу. Спробуйте отримати їхні значення та опишіть результати."
   ],
   "metadata": {
    "id": "HoqSCZt1MHn5"
   }
  },
  {
   "cell_type": "code",
   "source": [
    "class Person:\n",
    "  def __init__(self, name, age, height):\n",
    "    self.name = name\n",
    "    self._age = age\n",
    "    self.__height = height\n",
    "\n",
    "new_person = Person('Mia', 34, 177)\n",
    "print(new_person.name) #accessible\n",
    "print(new_person._age) #technically accessible but considered secure\n",
    "print(new_person.__height) #error because the attribute is private"
   ],
   "metadata": {
    "id": "r9b3vJxBMSPV",
    "colab": {
     "base_uri": "https://localhost:8080/",
     "height": 211
    },
    "outputId": "735c1e95-31a0-4e63-feff-269df871ef09"
   },
   "execution_count": 12,
   "outputs": [
    {
     "output_type": "stream",
     "name": "stdout",
     "text": [
      "Mia\n",
      "34\n"
     ]
    },
    {
     "output_type": "error",
     "ename": "AttributeError",
     "evalue": "'Person' object has no attribute '__height'",
     "traceback": [
      "\u001B[0;31m---------------------------------------------------------------------------\u001B[0m",
      "\u001B[0;31mAttributeError\u001B[0m                            Traceback (most recent call last)",
      "\u001B[0;32m<ipython-input-12-b30938500cf0>\u001B[0m in \u001B[0;36m<cell line: 10>\u001B[0;34m()\u001B[0m\n\u001B[1;32m      8\u001B[0m \u001B[0mprint\u001B[0m\u001B[0;34m(\u001B[0m\u001B[0mnew_person\u001B[0m\u001B[0;34m.\u001B[0m\u001B[0mname\u001B[0m\u001B[0;34m)\u001B[0m\u001B[0;34m\u001B[0m\u001B[0;34m\u001B[0m\u001B[0m\n\u001B[1;32m      9\u001B[0m \u001B[0mprint\u001B[0m\u001B[0;34m(\u001B[0m\u001B[0mnew_person\u001B[0m\u001B[0;34m.\u001B[0m\u001B[0m_age\u001B[0m\u001B[0;34m)\u001B[0m\u001B[0;34m\u001B[0m\u001B[0;34m\u001B[0m\u001B[0m\n\u001B[0;32m---> 10\u001B[0;31m \u001B[0mprint\u001B[0m\u001B[0;34m(\u001B[0m\u001B[0mnew_person\u001B[0m\u001B[0;34m.\u001B[0m\u001B[0m__height\u001B[0m\u001B[0;34m)\u001B[0m\u001B[0;34m\u001B[0m\u001B[0;34m\u001B[0m\u001B[0m\n\u001B[0m",
      "\u001B[0;31mAttributeError\u001B[0m: 'Person' object has no attribute '__height'"
     ]
    }
   ]
  },
  {
   "cell_type": "markdown",
   "source": [
    "4. (7б). Як ви розумієте термін self? Для чого використовується метод __init __?"
   ],
   "metadata": {
    "id": "5op2m2vgMSkZ"
   }
  },
  {
   "cell_type": "markdown",
   "source": [
    "self- це перший параметр метода __init __, який є конструктором. Python при створенні нового екземпляра класу автоматично буде передавати його в цей параметр, щоб сам метод __init __ міг ініціалізувати нові атрибути екземпляра."
   ],
   "metadata": {
    "id": "DyiPqNRvMasx"
   }
  },
  {
   "cell_type": "markdown",
   "source": [
    "5. (9б). Створіть клас Фігура без атрибутів, з методом get_area для отримання площі фігури, що повертає 0 та __add __, який приймає self та other в якості аргументів, а повертає суму площин фігур self та other."
   ],
   "metadata": {
    "id": "-6X8EGfjMd2y"
   }
  },
  {
   "cell_type": "code",
   "source": [
    "class Figure:\n",
    "  def get_area(self):\n",
    "    return 0\n",
    "\n",
    "  def __add__(self, other):\n",
    "    return self.get_area() + other.get_area()"
   ],
   "metadata": {
    "id": "4rvO_wYUMaEr"
   },
   "execution_count": 13,
   "outputs": []
  },
  {
   "cell_type": "markdown",
   "source": [
    "6. (11б). Створіть 2 дочірніх класи від Фігури: Трикутник та Коло, які мають атрибути, необхідні для розрахунку площин. Визначте метод get_area в кожному з них так, щоби вони розраховували площу в залежності від формули для кожного типу фігури. Створіть обʼєкт класу Трикутник та обʼєкт класу Коло. Виконайте операцію суми за допомогою оператора + між ними."
   ],
   "metadata": {
    "id": "SFcKnnv5Mo_z"
   }
  },
  {
   "cell_type": "code",
   "source": [
    "import math\n",
    "\n",
    "class Triangle(Figure):\n",
    "  def __init__(self, side, height):\n",
    "    self.side = side\n",
    "    self.height = height\n",
    "\n",
    "  def get_area(self):\n",
    "    return 0.5 * self.side * self.height\n",
    "\n",
    "class Circle(Figure):\n",
    "  def __init__(self, radius):\n",
    "    self.radius = radius\n",
    "\n",
    "  def get_area(self):\n",
    "    return math.pi * self.radius ** 2\n",
    "\n",
    "\n",
    "some_circle = Circle(3)\n",
    "some_triangle = Triangle(8, 10)\n",
    "\n",
    "sum = some_circle + some_triangle\n",
    "print(sum)\n",
    "print(some_circle.get_area())\n",
    "print(some_triangle.get_area())"
   ],
   "metadata": {
    "id": "H3GVNr69Muf3",
    "colab": {
     "base_uri": "https://localhost:8080/"
    },
    "outputId": "0afdd5d1-3928-4a6c-a313-bcbd6a98933d"
   },
   "execution_count": 14,
   "outputs": [
    {
     "output_type": "stream",
     "name": "stdout",
     "text": [
      "68.27433388230814\n",
      "28.274333882308138\n",
      "40.0\n"
     ]
    }
   ]
  },
  {
   "cell_type": "markdown",
   "source": [
    "7. (3б). Продемонструйте різницю між isinstance та issubclass."
   ],
   "metadata": {
    "id": "HCvR206YMvLK"
   }
  },
  {
   "cell_type": "code",
   "source": [
    "class Animal:\n",
    "  pass\n",
    "\n",
    "class Cat(Animal):\n",
    "  pass\n",
    "\n",
    "some_cat = Cat()\n",
    "example1 = isinstance(some_cat, Animal)\n",
    "example2 = isinstance(some_cat, Cat)\n",
    "example3 = issubclass(Cat, Animal)\n",
    "example1, example2, example3\n",
    "#the difference between isinstance and issubclass\n",
    "#is that using isinstance we check if some_cat is an instance of Animal class or a class that inherits from Animal\n",
    "#but with issubclass we check the inheritance between the two classes (in my example, Cat is a subclass of Animal)"
   ],
   "metadata": {
    "id": "L_V1bBvDM0GN",
    "colab": {
     "base_uri": "https://localhost:8080/"
    },
    "outputId": "fb459ec7-98dd-419a-c818-f3308018c7c8"
   },
   "execution_count": 15,
   "outputs": [
    {
     "output_type": "execute_result",
     "data": {
      "text/plain": [
       "(True, True, True)"
      ]
     },
     "metadata": {},
     "execution_count": 15
    }
   ]
  },
  {
   "cell_type": "markdown",
   "source": [
    "8. (13б). Створіть клас BankAccount з приватними атрибутами balance та account_number. Реалізуйте методи поповнення та зняття коштів, забезпечивши належну інкапсуляцію. Підказка: використовуйте декоратори property та setter."
   ],
   "metadata": {
    "id": "jjsaBZ-iM0Qq"
   }
  },
  {
   "cell_type": "code",
   "source": [
    "class BankAccount:\n",
    "  def __init__(self, balance, account_number):\n",
    "    self.__balance = balance\n",
    "    self.__account_number = account_number\n",
    "\n",
    "  @property\n",
    "  def balance(self):\n",
    "    return self.__balance\n",
    "\n",
    "  @balance.setter\n",
    "  def balance(self, money_amount):\n",
    "    if money_amount < 0:\n",
    "      print('amount must be positive')\n",
    "    else:\n",
    "      self.__balance = money_amount\n",
    "\n",
    "  def top_up(self, money_amount):\n",
    "    if money_amount > 0:\n",
    "      self.__balance += money_amount\n",
    "      print(f'account {self.__account_number}: topped-up {money_amount} \\nnew balance: {self.__balance}')\n",
    "    else:\n",
    "      print('top-up amount must be positive')\n",
    "\n",
    "  def withdraw(self, money_amount):\n",
    "    if 0 < money_amount and money_amount <= self.__balance:\n",
    "      self.__balance -= money_amount\n",
    "      print(f'account {self.__account_number}: withdrawn {money_amount} \\nnew balance: {self.__balance}')\n",
    "    else:\n",
    "      print('withdrawal amount must be positive and not exceed the balance')\n",
    "\n",
    "\n",
    "some_account = BankAccount(250, '538901253')\n",
    "some_account.top_up(300)\n",
    "some_account.withdraw(50)\n",
    "some_account.top_up(-1)\n",
    "some_account.withdraw(1000)\n",
    "\n",
    "final_balance = some_account.balance\n",
    "print(f'final balance: {final_balance}')"
   ],
   "metadata": {
    "id": "xCvZ7lh8M7YA",
    "colab": {
     "base_uri": "https://localhost:8080/"
    },
    "outputId": "cb81f567-5539-4fbd-d5b0-79bf907ef350"
   },
   "execution_count": 16,
   "outputs": [
    {
     "output_type": "stream",
     "name": "stdout",
     "text": [
      "account 538901253: topped-up 300 \n",
      "new balance: 550\n",
      "account 538901253: withdrawn 50 \n",
      "new balance: 500\n",
      "top-up amount must be positive\n",
      "withdrawal amount must be positive and not exceed the balance\n",
      "final balance: 500\n"
     ]
    }
   ]
  },
  {
   "cell_type": "markdown",
   "source": [
    "9. (11б). Створіть клас Library, який містить список об'єктів типу Book. Реалізуйте методи для додавання книги, видалення книги та відображення списку книг."
   ],
   "metadata": {
    "id": "tIzL2SJTM8ft"
   }
  },
  {
   "cell_type": "code",
   "source": [
    "class Book:\n",
    "  def __init__(self, author, title):\n",
    "    self.author = author\n",
    "    self.title = title\n",
    "\n",
    "  def __str__(self):\n",
    "    return f'book: {self.title}, {self.author}'\n",
    "\n",
    "class Library:\n",
    "  def __init__(self):\n",
    "    self.books = []\n",
    "\n",
    "  def adding_book(self, new_book):\n",
    "    self.books.append(new_book)\n",
    "    print(f'book \"{new_book.title}\" was added to the library')\n",
    "\n",
    "  def deleting_book(self, exist_book):\n",
    "    try:\n",
    "      self.books.remove(exist_book)\n",
    "      print(f'book \"{exist_book.title}\" was deleted')\n",
    "    except ValueError:\n",
    "      print(f'book \"{exist_book.title}\" is not in the library')\n",
    "\n",
    "  def displaying(self):\n",
    "    if self.books:\n",
    "      print('\\nlibrary: ')\n",
    "      for book in self.books:\n",
    "        print(book)\n",
    "    else:\n",
    "      print('the library is empty')\n",
    "\n",
    "\n",
    "book = Book('Steven King', 'Misery')\n",
    "book1 = Book('J. Tolkien', 'Lord Of The Ring')\n",
    "book2 = Book('Bret Easton Ellis', 'American Psycho')\n",
    "book3 = Book('J. K. Rowling', \"Harry Potter and the Philosopher's Stone\")\n",
    "\n",
    "library = Library()\n",
    "library.adding_book(book)\n",
    "library.adding_book(book1)\n",
    "library.adding_book(book2)\n",
    "library.deleting_book(book1)\n",
    "library.deleting_book(book3)\n",
    "library.displaying()"
   ],
   "metadata": {
    "id": "HWxfJKLtNAUZ",
    "colab": {
     "base_uri": "https://localhost:8080/"
    },
    "outputId": "228cb841-6788-49b7-cf96-ed482bb93f09"
   },
   "execution_count": 17,
   "outputs": [
    {
     "output_type": "stream",
     "name": "stdout",
     "text": [
      "book \"Misery\" was added to the library\n",
      "book \"Lord Of The Ring\" was added to the library\n",
      "book \"American Psycho\" was added to the library\n",
      "book \"Lord Of The Ring\" was deleted\n",
      "book \"Harry Potter and the Philosopher's Stone\" is not in the library\n",
      "\n",
      "library: \n",
      "book: Misery, Steven King\n",
      "book: American Psycho, Bret Easton Ellis\n"
     ]
    }
   ]
  },
  {
   "cell_type": "markdown",
   "source": [
    "10. (13б). Створіть клас Person з атрибутами name та age. Створіть ще один клас Employee з такими атрибутами, як department та salary. Створіть клас Manager, який успадковує обидва класи Person та Employee. Продемонструйте використання множинної спадковості, створивши обʼєкт класу Manager та отримавши mro для цього класу."
   ],
   "metadata": {
    "id": "lmV8pAwwNIqu"
   }
  },
  {
   "cell_type": "code",
   "source": [
    "class Person:\n",
    "  def __init__(self, name, age):\n",
    "    self.name = name\n",
    "    self.age = age\n",
    "\n",
    "class Employee:\n",
    "  def __init__(self, department, salary):\n",
    "    self.department = department\n",
    "    self.salary = salary\n",
    "\n",
    "class Manager(Person, Employee):\n",
    "   def __init__(self, name, age, department, salary):\n",
    "        Person.__init__(self, name, age)\n",
    "        Employee.__init__(self, department, salary)\n",
    "\n",
    "   def __str__(self):\n",
    "        return f'manager {self.name}, age: {self.age}, department: {self.department}, salary: {self.salary}'\n",
    "\n",
    "\n",
    "some_manager = Manager('Lisa', 35, 'accountant', '45000')\n",
    "some_manager_mro = Manager.mro()\n",
    "print(some_manager)\n",
    "print(some_manager_mro)"
   ],
   "metadata": {
    "id": "R49grKlWNPeN",
    "colab": {
     "base_uri": "https://localhost:8080/"
    },
    "outputId": "9bd9f00d-5b91-4414-abe9-b437f1b52dfb"
   },
   "execution_count": 18,
   "outputs": [
    {
     "output_type": "stream",
     "name": "stdout",
     "text": [
      "manager Lisa, age: 35, department: accountant, salary: 45000\n",
      "[<class '__main__.Manager'>, <class '__main__.Person'>, <class '__main__.Employee'>, <class 'object'>]\n"
     ]
    }
   ]
  },
  {
   "cell_type": "markdown",
   "source": [
    "# II. Iterator"
   ],
   "metadata": {
    "id": "dIJyUiNBFG8G"
   }
  },
  {
   "cell_type": "markdown",
   "source": [
    "11. (4б). Визначте рядок(str) з 4ма різними за значенням символами. Створіть ітератор на основі цього рядка. Викличте 5 разів функцію next на ітераторі, 4ри перших з них огорніть у ф-цію print()."
   ],
   "metadata": {
    "id": "13vsm0NyKIzL"
   }
  },
  {
   "cell_type": "code",
   "source": [
    "some_string = 'by3f'\n",
    "iterator_example = iter(some_string)\n",
    "some_calls = [next(iterator_example) for _ in range(4)]\n",
    "\n",
    "try: #without using try-except it will still give StopIteration\n",
    "  last_call = next(iterator_example)\n",
    "except StopIteration as e:\n",
    "  last_call = 'StopIteration raised'\n",
    "\n",
    "print(some_calls)\n",
    "last_call"
   ],
   "metadata": {
    "id": "81ntabAkKuz-",
    "colab": {
     "base_uri": "https://localhost:8080/",
     "height": 53
    },
    "outputId": "44241b38-3d33-4326-a062-7bc82f7cc57a"
   },
   "execution_count": 19,
   "outputs": [
    {
     "output_type": "stream",
     "name": "stdout",
     "text": [
      "['b', 'y', '3', 'f']\n"
     ]
    },
    {
     "output_type": "execute_result",
     "data": {
      "text/plain": [
       "'StopIteration raised'"
      ],
      "application/vnd.google.colaboratory.intrinsic+json": {
       "type": "string"
      }
     },
     "metadata": {},
     "execution_count": 19
    }
   ]
  },
  {
   "cell_type": "markdown",
   "source": [
    "А що якщо викликати цю ж функцію на рядку?"
   ],
   "metadata": {
    "id": "aekWHGXOLRsO"
   }
  },
  {
   "cell_type": "code",
   "source": [
    "some_string = 'by3f'\n",
    "next(some_string)\n",
    "#string is not an iterator, but iterables\n",
    "#we can use them in \"for\" loops, but not in __next__ method"
   ],
   "metadata": {
    "id": "mxATGsErLV1i",
    "colab": {
     "base_uri": "https://localhost:8080/",
     "height": 193
    },
    "outputId": "5fd8796b-3302-44d6-99b3-cbd542102c9c"
   },
   "execution_count": 20,
   "outputs": [
    {
     "output_type": "error",
     "ename": "TypeError",
     "evalue": "'str' object is not an iterator",
     "traceback": [
      "\u001B[0;31m---------------------------------------------------------------------------\u001B[0m",
      "\u001B[0;31mTypeError\u001B[0m                                 Traceback (most recent call last)",
      "\u001B[0;32m<ipython-input-20-c80a1c793131>\u001B[0m in \u001B[0;36m<cell line: 2>\u001B[0;34m()\u001B[0m\n\u001B[1;32m      1\u001B[0m \u001B[0msome_string\u001B[0m \u001B[0;34m=\u001B[0m \u001B[0;34m'by3f'\u001B[0m\u001B[0;34m\u001B[0m\u001B[0;34m\u001B[0m\u001B[0m\n\u001B[0;32m----> 2\u001B[0;31m \u001B[0mnext\u001B[0m\u001B[0;34m(\u001B[0m\u001B[0msome_string\u001B[0m\u001B[0;34m)\u001B[0m\u001B[0;34m\u001B[0m\u001B[0;34m\u001B[0m\u001B[0m\n\u001B[0m\u001B[1;32m      3\u001B[0m \u001B[0;31m#string is not an iterator, but iterables\u001B[0m\u001B[0;34m\u001B[0m\u001B[0;34m\u001B[0m\u001B[0m\n\u001B[1;32m      4\u001B[0m \u001B[0;31m#we can use them in \"for\" loops, but not in __next__ method\u001B[0m\u001B[0;34m\u001B[0m\u001B[0;34m\u001B[0m\u001B[0m\n",
      "\u001B[0;31mTypeError\u001B[0m: 'str' object is not an iterator"
     ]
    }
   ]
  },
  {
   "cell_type": "markdown",
   "source": [
    " 12. (5б). Опишіть своїми словами в одному реченні, як ви розумієте різницю між ітерабельними обʼєктами та ітераторами (можна на прикладі)."
   ],
   "metadata": {
    "id": "XwtMEopwJ4pH"
   }
  },
  {
   "cell_type": "markdown",
   "source": [
    "Ітерабельний об'єкт можна уявити як контейнер з елементами, до яких отримуєш доступ по черзі, а ітератор - інструмент, що дозволяє отримувати доступ до цих елементів, виймати їх"
   ],
   "metadata": {
    "id": "-sHrODc3KFn8"
   }
  },
  {
   "cell_type": "markdown",
   "source": [
    "13. (11б). Створіть клас, що має визначений Iterator Protocol та при кожному виклику next повертає літери англійської абетки, поки вони не вичерпаються."
   ],
   "metadata": {
    "id": "E9qJWmNbK8Gl"
   }
  },
  {
   "cell_type": "code",
   "source": [
    "class Alphabet:\n",
    "    def __init__(self):\n",
    "        self.letters = \"ABCDEFGHIJKLMNOPQRSTUVWXYZ\"\n",
    "        self.index = 0\n",
    "\n",
    "    def __iter__(self):\n",
    "        return self\n",
    "\n",
    "    def __next__(self):\n",
    "        if self.index < len(self.letters):\n",
    "            letter = self.letters[self.index]\n",
    "            self.index += 1\n",
    "            return letter\n",
    "        else:\n",
    "            raise StopIteration\n",
    "\n",
    "iterator = Alphabet()\n",
    "first_letters = [next(iterator) for _ in range(5)]\n",
    "next_letters = [next(iterator) for _ in range(10)]\n",
    "# decomment to call StopIteration\n",
    "# end = [next(iterator) for _ in range(15)]\n",
    "print(first_letters)\n",
    "print(next_letters)\n",
    "# print(end)"
   ],
   "metadata": {
    "id": "cqx-g_RsLo6I",
    "colab": {
     "base_uri": "https://localhost:8080/"
    },
    "outputId": "5e6daeb9-ef5e-4c57-d9e5-e97fdf578771"
   },
   "execution_count": 21,
   "outputs": [
    {
     "output_type": "stream",
     "name": "stdout",
     "text": [
      "['A', 'B', 'C', 'D', 'E']\n",
      "['F', 'G', 'H', 'I', 'J', 'K', 'L', 'M', 'N', 'O']\n"
     ]
    }
   ]
  },
  {
   "cell_type": "markdown",
   "source": [
    "# Вітаю! Ви велика(ий) молодець, що впоралась(вся). Похваліть себе та побалуйте чимось приємним. Я Вами пишаюся."
   ],
   "metadata": {
    "id": "Z3E3S_s1Fv7-"
   }
  }
 ]
}
